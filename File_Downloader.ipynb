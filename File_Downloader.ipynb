{
 "cells": [
  {
   "cell_type": "code",
   "execution_count": 12,
   "metadata": {},
   "outputs": [],
   "source": [
    "from selenium import webdriver\n",
    "from selenium.webdriver.common.by import By\n",
    "\n",
    "# You need to download chromdriver from here https://chromedriver.chromium.org/downloads\n",
    "# Save in your directory\n",
    "options = webdriver.ChromeOptions()\n",
    "\n",
    "preferences = {\"download.default_directory\": r\"C:\\Users\\alber\\selenium\\download_files\", \"safebrowsing.enabled\": \"false\"}\n",
    "\n",
    "options.add_experimental_option(\"prefs\", preferences)\n",
    "\n",
    "driver = webdriver.Chrome(options=options)\n",
    "\n",
    "tickers= ['AAN','AMP','BAC','C','CAT','CINF','CMI','DFS','HUM','MCK','TECD','TSN','URI','PYPL','AYX']\n",
    "\n",
    "for ticker in tickers:\n",
    "    driver.get(\"https://finance.yahoo.com/quote/\" +ticker+ \"/history?p=\"+ticker)\n",
    "\n",
    "    driver.find_element(By.XPATH, '//*[@id=\"Col1-1-HistoricalDataTable-Proxy\"]/section/div[1]/div[2]/span[2]/a').click() "
   ]
  },
  {
   "cell_type": "markdown",
   "metadata": {},
   "source": [
    "#### In case the downloder downloads duplicates use the code below to clean the duplicates"
   ]
  },
  {
   "cell_type": "code",
   "execution_count": 13,
   "metadata": {},
   "outputs": [],
   "source": [
    "import os\n",
    "\n",
    "file_path = r\"C:\\Users\\alber\\selenium\\download_files\"\n",
    "file_list = os.listdir(file_path)\n",
    "# print (file_list)\n",
    "for file_name in file_list:\n",
    "    if \" (1)\" not in file_name:\n",
    "        continue\n",
    "    original_file_name = file_name.replace(' (1)', '')\n",
    "    if not os.path.exists(os.path.join(file_path, original_file_name)):\n",
    "        continue  # do not remove files which have no original\n",
    "    os.remove(os.path.join(file_path, file_name))"
   ]
  },
  {
   "cell_type": "code",
   "execution_count": 7,
   "metadata": {},
   "outputs": [],
   "source": []
  },
  {
   "cell_type": "code",
   "execution_count": null,
   "metadata": {},
   "outputs": [],
   "source": []
  }
 ],
 "metadata": {
  "kernelspec": {
   "display_name": "Python 3",
   "language": "python",
   "name": "python3"
  },
  "language_info": {
   "codemirror_mode": {
    "name": "ipython",
    "version": 3
   },
   "file_extension": ".py",
   "mimetype": "text/x-python",
   "name": "python",
   "nbconvert_exporter": "python",
   "pygments_lexer": "ipython3",
   "version": "3.6.5"
  }
 },
 "nbformat": 4,
 "nbformat_minor": 2
}
